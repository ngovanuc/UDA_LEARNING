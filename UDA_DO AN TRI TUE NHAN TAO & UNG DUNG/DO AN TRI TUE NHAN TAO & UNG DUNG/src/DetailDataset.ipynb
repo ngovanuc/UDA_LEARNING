{
 "cells": [
  {
   "cell_type": "code",
   "execution_count": null,
   "metadata": {},
   "outputs": [],
   "source": [
    "\"\"\"\n",
    "Author: Ngo Van Uc\n",
    "University: Dong A University\n",
    "Date: 10/04/2024\n",
    "Subject: DO AN TRI TUE NHAN TAO VA UNG DUNG\n",
    "Instructor: Dr. Nguyen Nang Hung Van\n",
    "Link Dataset: https://www.kaggle.com/code/allunia/breast-cancer/input\n",
    "\"\"\""
   ]
  },
  {
   "cell_type": "markdown",
   "metadata": {},
   "source": [
    "# 1. Giới thiệu bộ dữ liệu\n"
   ]
  },
  {
   "cell_type": "markdown",
   "metadata": {},
   "source": [
    "## a. Bối cảnh\n",
    "Ung thư biểu mô ống xâm lấn (IDC) là loại phụ phổ biến nhất trong tất cả các loại ung thư vú. Để chỉ định mức độ xâm lấn cho toàn bộ mẫu gắn kết, các nhà nghiên cứu bệnh học thường tập trung vào các vùng chứa IDC. Do đó, một trong những bước xử lý trước phổ biến để phân loại mức độ linh hoạt tự động là phân định các vùng chính xác của IDC bên trong toàn bộ slide gắn kết."
   ]
  },
  {
   "cell_type": "markdown",
   "metadata": {},
   "source": [
    "## b. Nội dung\n",
    "\n",
    "Tập dữ liệu ban đầu bao gồm 162 hình ảnh slide toàn bộ của mẫu bệnh phẩm Ung thư vú (BCa) được quét ở tốc độ 40x. Từ đó, 277.524 bản vá có kích thước 50 x 50 đã được trích xuất (198.738 IDC âm tính và 78.786 IDC dương tính). Tên tệp của mỗi bản vá có định dạng: u_xX_yY_classC.png — > example 10253_idx5_x1351_y1101_class0.png . Trong đó u là ID bệnh nhân (10253_idx5), X là tọa độ x của nơi miếng vá này được cắt, Y là tọa độ y của nơi miếng vá này được cắt và C biểu thị lớp trong đó 0 không phải là IDC và 1 là IDC."
   ]
  },
  {
   "cell_type": "markdown",
   "metadata": {},
   "source": [
    "## c. Sự nhìn nhận\n",
    "\n",
    "- tải tệp dữ liệu gốc ở đây: http://gleason.case.edu/webdata/jpi-dl-tutorial/IDC_regular_ps50_idx5.zip\n",
    "\n",
    "- các trích dẫn: \n",
    "    + https://pubmed.ncbi.nlm.nih.gov/27563488/\n",
    "    + https://www.spiedigitallibrary.org/conference-proceedings-of-spie/0000/.full#_=_"
   ]
  },
  {
   "cell_type": "markdown",
   "metadata": {},
   "source": [
    "## d. Cảm hứng\n",
    "\n",
    "Ung thư vú là dạng ung thư phổ biến nhất ở phụ nữ và ***ung thư biểu mô ống xâm lấn (IDC) là dạng ung thư vú phổ biến nhất***. Xác định và phân loại chính xác các phân nhóm ung thư vú là một nhiệm vụ lâm sàng quan trọng và các phương pháp tự động có thể được sử dụng để tiết kiệm thời gian và giảm sai sót."
   ]
  },
  {
   "cell_type": "markdown",
   "metadata": {},
   "source": [
    "# 2. Phân loại các loại ung thư vú"
   ]
  },
  {
   "cell_type": "markdown",
   "metadata": {},
   "source": [
    "## a. Phân loại ung thư vú dựa trên ví trí xuất phát tế bào\n",
    "\n",
    "Ung thư bắt đầu ở phần nào của vú? Loại mô mà ung thư vú phát sinh quyết định cách ung thư hoạt động và phương pháp điều trị nào hiệu quả nhất. Các bộ phận của vú nơi ung thư bắt đầu bao gồm:\n",
    "\n",
    "- Ống dẫn sữa: ***ung thư biểu mô ống là loại ung thư vú phổ biến nhất***. Loại ung thư này hình thành trong niêm mạc của ống dẫn sữa trong vú của bạn. Các ống dẫn sữa mẹ từ các tiểu thùy, nơi nó được tạo ra, đến núm vú. Ung thư biểu mô ống dẫn có thể vẫn còn trong ống dẫn dưới dạng ung thư không xâm lấn (ung thư biểu mô ống tại chỗ) hoặc nó có thể thoát ra khỏi ống dẫn (ung thư biểu mô ống xâm lấn).\n",
    "- Tiểu thùy tiết sữa: ung thư biểu mô tiểu thùy bắt đầu ở các tiểu thùy của vú, nơi sản xuất sữa mẹ. Khi nó thoát ra khỏi tiểu thùy, nó được coi là ung thư biểu mô tiểu thùy xâm lấn. Các tiểu thùy được kết nối với các ống dẫn sữa mẹ đến núm vú.\n",
    "- Các mô liên kết: hiếm khi ung thư vú có thể bắt đầu trong mô liên kết được tạo thành từ cơ, mỡ và mạch máu. Ung thư bắt đầu trong mô liên kết được gọi là sarcoma. Ví dụ về sarcoma có thể xảy ra ở vú bao gồm khối u phyllodes và angiosarcoma."
   ]
  },
  {
   "cell_type": "markdown",
   "metadata": {},
   "source": [
    "## b. Các loại ung thư vú xâm lấn\n",
    "\n",
    "- ***Ung thư biểu mô ống dẫn sữa xâm lấn (IDC)***: là loại phổ biến nhất với khoảng 80% số người được chẩn đoán. “Xâm lấn” là ung thư lan ra ngoài ống dẫn sữa nơi nó bắt bầu.\n",
    "- Ung thư biểu mô tiểu thùy xâm lấn (ILC): là dạng hiếm được chẩn đoán khoảng 5%-10% ca. Ung thư biểu mô xâm lấn bắt đầu ở các tiểu thùy và lan ra các mô xung quanh. Các tế bào ung thư xâm nhập vào các hạch bạch huyết và lan sang các bộ phận khác trên cơ thể.\n",
    "- Ung thư biểu mô dạng ống nhỏ: chiếm 1% – 2% trong các loại ung thư vú và được đặt tên theo cấu trúc giống như ống bên trong tế bào ung thư. Ung thư biểu mô dạng ống thường phát triển chậm, tiên lượng tốt và rất dễ điều trị.\n",
    "- Ung thư biểu mô tuyến nhầy: ung thư vú loại này có rất nhiều chất nhầy xung quanh các tế bào ung thư, bệnh chiếm tỷ lệ thấp nhưng diễn tiến chậm và tiên lượng rất tốt.\n",
    "- Ung thư vú dạng viêm (IBC) là loại hiếm gặp, chiếm ít hơn 5% trong tất cả các loại u vú nhưng tiên lượng rất xấu, dễ nhầm bệnh viêm vú và thường bệnh diễn tiến nhanh. Các triệu chứng khác với các dạng ung thư vú khác. Các tế bào ung thư chặn những mạch bạch huyết trong vú (tương tự như các mạch máu, ngoại trừ các tế bào mang dịch bạch huyết) làm da sưng lên, đỏ và dày lên."
   ]
  }
 ],
 "metadata": {
  "language_info": {
   "name": "python"
  }
 },
 "nbformat": 4,
 "nbformat_minor": 2
}
