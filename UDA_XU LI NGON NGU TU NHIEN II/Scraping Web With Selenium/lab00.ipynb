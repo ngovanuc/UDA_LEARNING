{
 "cells": [
  {
   "cell_type": "code",
   "execution_count": null,
   "metadata": {},
   "outputs": [],
   "source": [
    "\"\"\"\n",
    "Selenium tutorial for Python:\n",
    "    - https://www.geeksforgeeks.org/selenium-python-tutorial/\n",
    "    - https://selenium-python.readthedocs.io/\n",
    "    - https://www.browserstack.com/guide/python-selenium-to-run-web-automation-test\n",
    "\"\"\""
   ]
  }
 ],
 "metadata": {
  "language_info": {
   "name": "python"
  }
 },
 "nbformat": 4,
 "nbformat_minor": 2
}
