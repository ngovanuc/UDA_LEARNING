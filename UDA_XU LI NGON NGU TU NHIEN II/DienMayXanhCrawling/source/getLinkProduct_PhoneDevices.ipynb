{
 "cells": [
  {
   "cell_type": "code",
   "execution_count": null,
   "metadata": {},
   "outputs": [],
   "source": [
    "'''\n",
    "Author: Ngo Van Uc\n",
    "Date: 31/05/2024\n",
    "Mail: ngovanuc.git@gmail.com\n",
    "'''"
   ]
  },
  {
   "cell_type": "markdown",
   "metadata": {},
   "source": [
    "***tasks:***\n",
    "\n",
    "- tìm điện thoại trên trang web điện máy xanh\n",
    "- khắc phục lỗi: 403 Forbiden\n",
    "- lấy ra các thuộc tính cần thiết và lưu vào file csv của các sản phẩm điện thoại"
   ]
  },
  {
   "cell_type": "code",
   "execution_count": 7,
   "metadata": {},
   "outputs": [],
   "source": [
    "from urllib.request import urlopen\n",
    "from urllib.request import Request\n",
    "from urllib.error import HTTPError\n",
    "from urllib.error import URLError\n",
    "from bs4 import BeautifulSoup\n",
    "from csv import writer\n",
    "import random"
   ]
  },
  {
   "cell_type": "markdown",
   "metadata": {},
   "source": [
    "***để tránh lỗi, mỗi khi quyét một trang web, chúng ta cần:***\n",
    "\n",
    "- mở thử môt trang web xem nó tồn tại không\n",
    "- nếu nó tồn tại thì xem server nó còn sống không =))\n",
    "- các truy vấn nên dùng ngoại lệ tránh ngắt quãng trong quá trình "
   ]
  },
  {
   "cell_type": "code",
   "execution_count": 2,
   "metadata": {},
   "outputs": [],
   "source": [
    "urls = [\n",
    "    \"https://www.thegioididong.com/dtdd\",\n",
    "    \"https://cellphones.com.vn/mobile.,\",\n",
    "    \"https://dienmaycholon.vn/dien-thoai-di-dong\",\n",
    "    \"https://www.nguyenkim.com/dien-thoai-di-dong/\",\n",
    "    \"https://viettelstore.vn/dien-thoai\",\n",
    "    \"https://didongviet.vn/dien-thoai.,\",\n",
    "    \"https://www.dienmayxanh.com/laptop\",\n",
    "    \"https://www.thegioididong.com/dtdd/iphone-15-pro?utm_flashsale=1\",\n",
    "    \"https://www.dienmayxanh.com/dien-thoai\"\n",
    "]"
   ]
  },
  {
   "cell_type": "code",
   "execution_count": 10,
   "metadata": {},
   "outputs": [
    {
     "name": "stdout",
     "output_type": "stream",
     "text": [
      "HTTP Error 403: Forbidden\n"
     ]
    }
   ],
   "source": [
    "try:\n",
    "    link = urlopen(urls[8])\n",
    "    print('Its work!')\n",
    "except HTTPError as he:\n",
    "    print(he)\n",
    "except URLError as ue:\n",
    "    print(ue)"
   ]
  },
  {
   "cell_type": "markdown",
   "metadata": {},
   "source": [
    "***khắc phục lỗi 403: Forbiden***\n",
    "\n",
    "thông thường các trang web hiện đại đều sử dụng trình chặn các truy cập \n",
    "bất thường. vấn đề ở chỗ khi chúng ta gửi một trình yêu cầu thì máy chủ không\n",
    "thể biết được yêu cầu đến từ đâu.\n",
    "\n",
    "=> giải pháp đưa ra đó là cung cấp thông tin truy cập trình duyệt giả mạo\n",
    "\n",
    "\n",
    "trong trường hợp một người dùng giả lập có lượng truy cập lớn (thực hiện\n",
    "quá nhiều yêu cầu tới máy chủ), thông thường sẽ bị phát hiện và được xem\n",
    "là có lưu lượng truy cập bất thường, và được cho là BOT, lúc này sẽ bị chặn\n",
    "\n",
    "=> giải pháp đưa ra đó là: tạo một danh sách người dùng giả mạo và dùng random\n",
    "để truy cập, tránh việc một người dùng giả lập truy cập quá nhiều (phân bổ\n",
    "lượng truy cập ra cho các gỉa lập)\n",
    "\n",
    "***references:***\n",
    "\n",
    "- https://medium.com/@speedforcerun/python-crawler-http-error-403-forbidden-1623ae9ba0f\n",
    "- https://www.useragentstring.com/pages/useragentstring.php?source=post_page-----1623ae9ba0f--------------------------------\n",
    "- https://www.useragentstring.com/pages/Chrome/"
   ]
  },
  {
   "cell_type": "code",
   "execution_count": 9,
   "metadata": {},
   "outputs": [
    {
     "name": "stdout",
     "output_type": "stream",
     "text": [
      "It's work!\n"
     ]
    }
   ],
   "source": [
    "# User agent strings\n",
    "user_agents = [\n",
    "    'Mozilla/5.0 (Windows NT 6.1) AppleWebKit/537.36 (KHTML, like Gecko) Chrome/41.0.2228.0 Safari/537.3',\n",
    "    'Mozilla/5.0 (Windows NT 10.0; Win64; x64) AppleWebKit/537.36 (KHTML, like Gecko) Chrome/58.0.3029.110 Safari/537.3',\n",
    "    'Mozilla/5.0 (Windows NT 10.0; Win64; x64) AppleWebKit/537.36 (KHTML, like Gecko) Chrome/60.0.3112.113 Safari/537.36',\n",
    "    'Mozilla/5.0 (Windows NT 10.0; Win64; x64) AppleWebKit/537.36 (KHTML, like Gecko) Chrome/62.0.3202.94 Safari/537.36',\n",
    "    'Mozilla/5.0 (Windows NT 10.0; Win64; x64) AppleWebKit/537.36 (KHTML, like Gecko) Chrome/63.0.3239.132 Safari/537.36',\n",
    "    'Mozilla/5.0 (Windows NT 10.0; Win64; x64) AppleWebKit/537.36 (KHTML, like Gecko) Chrome/64.0.3282.140 Safari/537.36',\n",
    "]\n",
    "\n",
    "try:\n",
    "    request = Request(url=urls[8], headers={'User-Agent': random.choice(user_agents)})\n",
    "    print(\"It's work!\")\n",
    "except AttributeError as e:\n",
    "    print(e)\n",
    "except HTTPError as he:\n",
    "    print(he)\n",
    "except URLError as ue:\n",
    "    print(ue)"
   ]
  },
  {
   "cell_type": "markdown",
   "metadata": {},
   "source": [
    "***phân tích:***\n",
    "\n",
    "- trong đường link index 8 chứa các thẻ li bao gồm thông tin điện thoại\n",
    "- lọc hết các thẻ li\n",
    "- trong thẻ li có các thông tin quan trọng của sản phẩm cần lấy ra\n",
    "- lưu vào trong một file csv chứa các thông tin quan trọng cần lấy ra\n",
    "\n",
    "***lưu ý:***\n",
    "\n",
    "- hiện tại chưa thể lấy hết các sản phẩm được do mỗi sản phẩm có nhiều phiên bản\n",
    "- select các phiên bản đó và lưu trang web về để thực hiện lấy đầy đủ data hơn\n",
    "- => chọn các phiên bản sản phẩm rồi nhấn lưu trang web đó vào ổ đĩa E:\\"
   ]
  },
  {
   "cell_type": "code",
   "execution_count": null,
   "metadata": {},
   "outputs": [],
   "source": [
    "html_file_v1 = \"E:/Điện thoại smartphone giá rẻ, chính hãng, cũ đổi mới, góp 0% - 04_2024.html\"\n",
    "html_file_v2 = \"E:/Điện thoại smartphone giá rẻ, chính hãng, cũ đổi mới, góp 0% - 04_2024 - v2.html\"\n",
    "html_file_v3 = \"E:/Điện thoại smartphone giá rẻ, chính hãng, cũ đổi mới, góp 0% - 04_2024 - v3.html\"\n",
    "html = open(html_file_v3, 'r', encoding='utf-8')\n",
    "html_contents = html.read()\n",
    "bs = BeautifulSoup(html_contents, 'html.parser')"
   ]
  },
  {
   "cell_type": "code",
   "execution_count": null,
   "metadata": {},
   "outputs": [],
   "source": [
    "tagList = bs.find_all('li', {'class': 'item ajaxed __cate_42'})\n",
    "print(len(tagList))"
   ]
  },
  {
   "cell_type": "code",
   "execution_count": null,
   "metadata": {},
   "outputs": [],
   "source": [
    "COLUMNS = []\n",
    "BEST_COLUMNS = []\n",
    "REMOVED_COLUMNS = []\n",
    "PRE_LINK = \"https://www.dienmayxanh.com/\"\n",
    "\n",
    "for tag in tagList:\n",
    "    \n",
    "    for key, value in tag.attrs.items():\n",
    "        COLUMNS.append(key)\n",
    "\n",
    "    child = tag.find('a', {'class': 'main-contain'})    \n",
    "    for key, _ in child.attrs.items():\n",
    "        COLUMNS.append(key)\n",
    "\n",
    "    # sản phẩm chứa nhiều thông số khác nhau với số lượng thông số cũng không cố định\n",
    "    child = tag.find('div', {'class': 'item-compare'})\n",
    "    for key, _ in child.attrs.items():\n",
    "        COLUMNS.append(key)\n",
    "\n",
    "    child = tag.find('p', {'class': 'item-rating-total'})\n",
    "    COLUMNS.append(child.get('class')[0])\n",
    "    \n",
    "    break\n",
    "\n",
    "\n",
    "print(COLUMNS)\n",
    "print(len(COLUMNS)) "
   ]
  },
  {
   "cell_type": "code",
   "execution_count": null,
   "metadata": {},
   "outputs": [],
   "source": [
    "import csv\n",
    "from csv import writer\n",
    "\n",
    "BEST_COLUMNS = ['data-id', 'data-productcode', 'data-price', \n",
    "                'href', 'data-name', 'data-id', 'data-price', \n",
    "                'data-brand', 'data-cate', 'item-rating-total']\n",
    "\n",
    "csv_filePath = \"E:/UDA_LEARNING/UDA_XU LI NGON NGU TU NHIEN II/DienMayXanhCrawling/data/getLinkProduct_PhoneDevices.csv\"\n",
    "csv_file = open(csv_filePath, 'a', newline='', encoding='utf-8')\n",
    "writer = csv.writer(csv_file)\n",
    "writer.writerow(BEST_COLUMNS)\n",
    "\n",
    "count = 0\n",
    "for tag in tagList:\n",
    "    dataRow = []\n",
    "\n",
    "    for key, value in tag.attrs.items():\n",
    "        if key in BEST_COLUMNS:\n",
    "            dataRow.append(value)\n",
    "\n",
    "    for key, value in tag.find('a', {'class': 'main-contain'}).attrs.items():\n",
    "        if key in BEST_COLUMNS:\n",
    "            dataRow.append(value)  \n",
    "\n",
    "    rating = tag.find('p', {'class': 'item-rating-total'})\n",
    "    if rating is not None:\n",
    "        dataRow.append(rating.get_text())\n",
    "    else:\n",
    "        dataRow.append('0')\n",
    "    \n",
    "    writer.writerow(dataRow)\n",
    "    count += 1"
   ]
  },
  {
   "cell_type": "code",
   "execution_count": null,
   "metadata": {},
   "outputs": [],
   "source": [
    "html.close()\n",
    "csv_file.close()"
   ]
  },
  {
   "cell_type": "markdown",
   "metadata": {},
   "source": [
    "***note***\n",
    "\n",
    "các danh mục sản phẩm được lấy trong file csv có thể bị trùng nhau"
   ]
  }
 ],
 "metadata": {
  "kernelspec": {
   "display_name": "Python 3",
   "language": "python",
   "name": "python3"
  },
  "language_info": {
   "codemirror_mode": {
    "name": "ipython",
    "version": 3
   },
   "file_extension": ".py",
   "mimetype": "text/x-python",
   "name": "python",
   "nbconvert_exporter": "python",
   "pygments_lexer": "ipython3",
   "version": "3.10.6"
  }
 },
 "nbformat": 4,
 "nbformat_minor": 2
}
