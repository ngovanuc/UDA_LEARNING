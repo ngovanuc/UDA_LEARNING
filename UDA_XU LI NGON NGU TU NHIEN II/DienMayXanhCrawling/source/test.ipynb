{
 "cells": [
  {
   "cell_type": "code",
   "execution_count": 55,
   "metadata": {},
   "outputs": [],
   "source": [
    "import re\n",
    "import random\n",
    "import time\n",
    "import numpy as np\n",
    "import pandas as pd\n",
    "from selenium import webdriver\n",
    "from urllib.request import urlopen\n",
    "from urllib.request import Request\n",
    "from bs4 import BeautifulSoup"
   ]
  },
  {
   "cell_type": "code",
   "execution_count": 31,
   "metadata": {},
   "outputs": [
    {
     "name": "stdout",
     "output_type": "stream",
     "text": [
      "It's workd!\n"
     ]
    }
   ],
   "source": [
    "headers = {\n",
    "    'User-Agent': 'Mozilla/5.0 (Windows NT 6.1) AppleWebKit/537.36 (KHTML, like Gecko) Chrome/41.0.2228.0 Safari/537.3'\n",
    "}\n",
    "\n",
    "link = \"https://www.dienmayxanh.com/dien-thoai/iphone-15-pro-max-512gb/danh-gia\"\n",
    "try:\n",
    "    req = Request(url=link, headers=headers)\n",
    "except AttributeError as e:\n",
    "    print(e)\n",
    "finally:\n",
    "        html = urlopen(req)        \n",
    "        print(\"It's workd!\")\n",
    "        bs = BeautifulSoup(html, 'html.parser')"
   ]
  },
  {
   "cell_type": "code",
   "execution_count": null,
   "metadata": {},
   "outputs": [],
   "source": [
    "driver = webdriver.Chrome()\n",
    "driver.get(link)\n",
    "time.sleep(5)\n",
    "\n",
    "html = driver.page_source\n",
    "driver.quit()\n",
    "\n",
    "bs = BeautifulSoup(html, 'html.parser')\n",
    "divs_rt_list = bs.find_all('li', class_='par')\n",
    "for div in divs_rt_list:\n",
    "    print(div)"
   ]
  }
 ],
 "metadata": {
  "kernelspec": {
   "display_name": "Python 3",
   "language": "python",
   "name": "python3"
  },
  "language_info": {
   "codemirror_mode": {
    "name": "ipython",
    "version": 3
   },
   "file_extension": ".py",
   "mimetype": "text/x-python",
   "name": "python",
   "nbconvert_exporter": "python",
   "pygments_lexer": "ipython3",
   "version": "3.10.6"
  }
 },
 "nbformat": 4,
 "nbformat_minor": 2
}
