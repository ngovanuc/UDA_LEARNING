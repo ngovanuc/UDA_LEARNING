{
 "cells": [
  {
   "cell_type": "markdown",
   "metadata": {},
   "source": [
    "Bạn đã đặt một số nền tảng cho việc quét web; Bây giờ đến phần thú vị. Cho đến thời điểm này, những người quét web của bạn tương đối ngu ngốc. \n",
    "\n",
    "Họ không thể truy xuất thông tin trừ khi nó được máy chủ trình bày ngay lập tức cho họ ở định dạng đẹp. Họ lấy tất cả thông tin theo mệnh giá và lưu trữ nó mà không cần phân tích.\n",
    "\n",
    "Chúng bị cản trở bởi các biểu mẫu, tương tác trên trang web và thậm chí cả JavaScript. \n",
    "\n",
    "=> Nói tóm lại, chúng không hữu ích cho việc truy xuất thông tin trừ khi thông tin đó thực sự muốn được truy xuất. \n",
    "\n",
    "Phần này của cuốn sách sẽ giúp bạn phân tích dữ liệu thô để hiểu được câu chuyện bên dưới dữ liệu—câu chuyện mà các trang web thường ẩn dưới các lớp dữ liệu. JavaScript, biểu mẫu đăng nhập và các biện pháp chống thu thập dữ liệu.\n",
    "\n",
    "Bạn sẽ tìm hiểu cách sử dụng trình thu thập dữ liệu web để kiểm tra trang web của mình, tự động kết hợp các quy trình và truy cập Internet trên quy mô lớn. Đến cuối phần này, bạn sẽ có các công cụ để thu thập và thao tác gần như mọi loại dữ liệu, dưới mọi hình thức, trên bất kỳ phần nào của internet"
   ]
  },
  {
   "cell_type": "markdown",
   "metadata": {},
   "source": [
    "# bắt đầu từ Chapter 07 sẽ thuộc về Part II"
   ]
  }
 ],
 "metadata": {
  "language_info": {
   "name": "python"
  }
 },
 "nbformat": 4,
 "nbformat_minor": 2
}
