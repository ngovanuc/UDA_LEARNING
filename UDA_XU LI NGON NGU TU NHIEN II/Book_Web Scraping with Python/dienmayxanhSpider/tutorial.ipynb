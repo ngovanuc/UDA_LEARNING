{
 "cells": [
  {
   "cell_type": "code",
   "execution_count": null,
   "metadata": {},
   "outputs": [],
   "source": [
    "'''\n",
    "nhìn chung, một spider có cấu trúc thư mục như sau:\n",
    "\n",
    "crawl/\n",
    "├── crawl                             # nơi chứa code của dự án\n",
    "│   ├── init.py\n",
    "│   ├── items.py                    # nơi định nghĩa các trường dữ liệu cần lưu vào db\n",
    "│   ├── pipelines.py              # nơi xử lý các item trích xuất được và lưu vào db\n",
    "│   ├── settings.py                # cấu hình thêm các phần mở rộng (middlewares) và các thông số cấu hình khác\n",
    "│   └── spiders                     # thư mục chứa các spider\n",
    "│       └── init.py\n",
    "└── scrapy.cfg                      # file cấu hình về deploy và settings của project\n",
    "'''"
   ]
  },
  {
   "cell_type": "code",
   "execution_count": null,
   "metadata": {},
   "outputs": [],
   "source": [
    "# items.py\n",
    "'''\n",
    "File items.py được sử dụng để khai báo metadata cho những dữ liệu mà chúng ta muốn scrape. \n",
    "Trong file này có class StackItem là class được kế thừa từ class Item của Scrapy. \n",
    "Trong class này đã định nghĩa trước một số đối tượng mà Scrapy cần dùng để scrape.\n",
    "'''"
   ]
  },
  {
   "cell_type": "code",
   "execution_count": null,
   "metadata": {},
   "outputs": [],
   "source": [
    "# tạo spider trong spiders\n",
    "'''\n",
    "Chúng ta sẽ tạo một  spider blogarrow.py trong thư mục spiders  đã được tạo ở trên. Thư mục này khá đặc biệt, \n",
    "bởi nó là nơi chúng ta đưa ra các chỉ định cho Scrapy biết chính xác chúng ta muốn thu thập dữ liệu gì. \n",
    "Trong thư mục này, bạn có thể định nghĩa các Spider khác nhau cho các trang Web khác nhau.\n",
    "\n",
    "Bắt đầu bằng một class kế thừa từ class Spider của Scrapy và chúng ta sẽ thêm vào các thuộc tính cần thiết\n",
    "'''"
   ]
  },
  {
   "cell_type": "code",
   "execution_count": null,
   "metadata": {},
   "outputs": [],
   "source": [
    "# XPath\n",
    "'''Một điều rất quan trọng, đó là Scrapy sử dụng XPath selector để trích xuất dữ liệu từ các trang Web. \n",
    "Nói một cách khác, đó là chúng ta có thể chọn lọc ra một thành phần chính xác trên một trang Web bằng cách sử dụng XPath.'''"
   ]
  }
 ],
 "metadata": {
  "language_info": {
   "name": "python"
  }
 },
 "nbformat": 4,
 "nbformat_minor": 2
}
