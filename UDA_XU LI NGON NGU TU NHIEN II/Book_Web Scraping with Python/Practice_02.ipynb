{
 "cells": [
  {
   "cell_type": "code",
   "execution_count": null,
   "metadata": {},
   "outputs": [],
   "source": [
    "\"\"\"\n",
    "mục tiêu:\n",
    "    - ôn tập lại các kiến thức chương 1 và 2\n",
    "    - vận dụng các kiến thức trong chương 1 và 2\n",
    "    - thực hành lấy tất cả hình ảnh của một trang web bất kì khả dụng\n",
    "    - khắc phục lỗi: 403 Forbiden\n",
    "\"\"\""
   ]
  },
  {
   "cell_type": "code",
   "execution_count": null,
   "metadata": {},
   "outputs": [],
   "source": [
    "from urllib.request import urlopen\n",
    "from urllib.error import HTTPError\n",
    "from urllib.error import URLError\n",
    "from bs4 import BeautifulSoup"
   ]
  },
  {
   "cell_type": "code",
   "execution_count": null,
   "metadata": {},
   "outputs": [],
   "source": [
    "# thử mở một trang web xem nó có tồn tại không?\n",
    "# nếu nó tồn tại thì xem server nó còn sống không?\n",
    "# hai điều trên thực hiện bằng lệnh try - except"
   ]
  },
  {
   "cell_type": "code",
   "execution_count": null,
   "metadata": {},
   "outputs": [],
   "source": [
    "html1 = \"https://www.thegioididong.com/dtdd\"\n",
    "html2 = \"https://cellphones.com.vn/mobile.html\"\n",
    "html3 = \"https://dienmaycholon.vn/dien-thoai-di-dong\"\n",
    "html4 = \"https://www.nguyenkim.com/dien-thoai-di-dong/\"\n",
    "html5 = \"https://viettelstore.vn/dien-thoai\"\n",
    "html6 = \"https://didongviet.vn/dien-thoai.html\"\n",
    "html7 = \"https://www.dienmayxanh.com/laptop\"\n",
    "html8 = \"https://www.thegioididong.com/dtdd/iphone-15-pro?utm_flashsale=1\"\n",
    "html9 = \"https://www.dienmayxanh.com/dien-thoai\""
   ]
  },
  {
   "cell_type": "code",
   "execution_count": null,
   "metadata": {},
   "outputs": [],
   "source": [
    "try:\n",
    "    html = urlopen(html8)\n",
    "    print(\"It's work!\")\n",
    "except HTTPError as e:\n",
    "    print(e)\n",
    "except URLError as e:\n",
    "    print(e)"
   ]
  },
  {
   "cell_type": "markdown",
   "metadata": {},
   "source": [
    "https://medium.com/@speedforcerun/python-crawler-http-error-403-forbidden-1623ae9ba0f\n",
    "\n",
    "\n",
    "https://www.useragentstring.com/pages/useragentstring.php?source=post_page-----1623ae9ba0f--------------------------------\n",
    "\n",
    "\n",
    "https://www.useragentstring.com/pages/Chrome/"
   ]
  },
  {
   "cell_type": "markdown",
   "metadata": {},
   "source": [
    "***Cách khắc phục lỗi 403: Forbiden***\n",
    "- thông thường các trang web hiện đại đều sử dụng trình chặn các truy cập \n",
    "bất thường. vấn đề ở chỗ khi chúng ta gửi một trình yêu cầu thì máy chủ không\n",
    "thể biết được yêu cầu đến từ đâu.\n",
    "\n",
    "=> giải pháp đưa ra đó là cung cấp thông tin truy cập trình duyệt giả mạo\n",
    "\n",
    "có thể lấy các tài khoản được giả lập giả mạo ở trên. hãy chọn đúng cho trình\n",
    "duyệt mình đang sủ dụng\n",
    "\n",
    "- trong trường hợp một người dùng giả lập có lượng truy cập lớn (thực hiện\n",
    "quá nhiều yêu cầu tới máy chủ), thông thường sẽ bị phát hiện và được xem\n",
    "là có lưu lượng truy cập bất thường, và được cho là BOT, lúc này sẽ bị chặn\n",
    "=> giải pháp đưa ra đó là: tạo một danh sách người dùng giả mạo và dùng random\n",
    "để truy cập, tránh việc một người dùng giả lập truy cập quá nhiều (phân bổ\n",
    "lượng truy cập ra cho các gỉa lập)"
   ]
  },
  {
   "cell_type": "code",
   "execution_count": 1,
   "metadata": {},
   "outputs": [],
   "source": [
    "from urllib.request import urlopen\n",
    "from urllib.error import HTTPError\n",
    "from urllib.error import URLError\n",
    "from urllib.request import Request\n",
    "from bs4 import BeautifulSoup"
   ]
  },
  {
   "cell_type": "code",
   "execution_count": 2,
   "metadata": {},
   "outputs": [],
   "source": [
    "blockedLinks =  [\n",
    "    \"https://www.dienmayxanh.com/dien-thoai\",\n",
    "    \"https://www.dienmayxanh.com/dien-thoai#c=42&o=17&pi=5\",\n",
    "    \"https://www.thegioididong.com/dtdd\",\n",
    "    \"https://www.dienmayxanh.com/laptop\",\n",
    "]\n",
    "\n",
    "headers = {\n",
    "    'User-Agent': 'Mozilla/5.0 (Windows NT 6.1) AppleWebKit/537.36 (KHTML, like Gecko) Chrome/41.0.2228.0 Safari/537.3',\n",
    "    # 'User-Agent': 'Mozilla/5.0 (Macintosh; Intel Mac OS X 10_15_7) AppleWebKit/537.36 (KHTML, like Gecko) Chrome/104.0.5112.79 Safari/537.36'\n",
    "}"
   ]
  },
  {
   "cell_type": "code",
   "execution_count": 3,
   "metadata": {},
   "outputs": [
    {
     "name": "stdout",
     "output_type": "stream",
     "text": [
      "It's workd!\n"
     ]
    }
   ],
   "source": [
    "try:\n",
    "    req = Request(url=blockedLinks[1], headers=headers)\n",
    "except AttributeError as e:\n",
    "    print(e)\n",
    "finally:\n",
    "        html = urlopen(req)        \n",
    "        print(\"It's workd!\")\n",
    "        bs = BeautifulSoup(html.read(), 'html.parser')"
   ]
  },
  {
   "cell_type": "markdown",
   "metadata": {},
   "source": [
    "***task:***\n",
    "\n",
    "- trong đường link trên chứa các thẻ li bao gồm thông tin về điện thoại\n",
    "- lọc hết tất cả các thẻ li ra\n",
    "- trong mỗi thẻ li có một vài thông tin quan trọng, cần lấy ra\n",
    "- trong mỗi thẻ li có các thẻ con khác có chứa thông tin quan trọng của một sản phẩm, lấy các thông tin của sản phẩm đó ra\n",
    "- lưu vào trong một file csv\n"
   ]
  },
  {
   "cell_type": "code",
   "execution_count": 21,
   "metadata": {},
   "outputs": [],
   "source": [
    "html_file_v1 = \"E:/Điện thoại smartphone giá rẻ, chính hãng, cũ đổi mới, góp 0% - 04_2024.html\"\n",
    "html_file_v2 = \"E:/Điện thoại smartphone giá rẻ, chính hãng, cũ đổi mới, góp 0% - 04_2024 - v2.html\"\n",
    "html_file_v3 = \"E:/Điện thoại smartphone giá rẻ, chính hãng, cũ đổi mới, góp 0% - 04_2024 - v3.html\"\n",
    "html = open(html_file_v3, 'r', encoding='utf-8')\n",
    "html_contents = html.read()\n",
    "bs = BeautifulSoup(html_contents, 'html.parser')"
   ]
  },
  {
   "cell_type": "code",
   "execution_count": 22,
   "metadata": {},
   "outputs": [
    {
     "name": "stdout",
     "output_type": "stream",
     "text": [
      "105\n"
     ]
    }
   ],
   "source": [
    "tagList = bs.find_all('li', {'class': 'item ajaxed __cate_42'})\n",
    "print(len(tagList))"
   ]
  },
  {
   "cell_type": "markdown",
   "metadata": {},
   "source": [
    "***vấn đề phát sinh sau khi tìm hiểu***\n",
    "\n",
    "- đối với mỗi sản phẩm sẽ có những lựa chọn cho những thông số sản phảm khác nhau. ví dụ như điện thoại có các phiên bản như 64Gb, 128Gb...\n",
    " các phiên bản khác nhau sẽ cho những thuộc tính của thẻ có thể khác nhau và do đó có thể bị thiếu sản phẩm nếu bị ẩn.\n",
    "\n",
    "\n",
    " ***giải pháp đưa ra ở đây là gì?***\n",
    " - tìm hiểu thì thấy rằng các sản phẩm ẩn đó chúng có thuộc tính vị trí\n",
    " - việc của chúng ta là lấy dựa trên vị trí được cung cấp đó\n",
    " \n",
    "\n",
    " ***khó khăn là gì?***\n",
    " - câu hỏi đặt ra là: liệu rằng các sản phẩm đó có được thị trong danh sách listProduct hay không? hay là phải tra cứu dữ liệu từ máy chủ\n",
    " nếu nó là có sẵn rồi thì vấn đề trở nên đơn giản hơn rất nhiều"
   ]
  },
  {
   "cell_type": "markdown",
   "metadata": {},
   "source": [
    "# mục tiêu đầu tiên là phải có được tên của tất cả các thuộc tính để làm tên cột"
   ]
  },
  {
   "cell_type": "code",
   "execution_count": 16,
   "metadata": {},
   "outputs": [
    {
     "name": "stdout",
     "output_type": "stream",
     "text": [
      "['class', 'data-index', 'data-id', 'data-issetup', 'data-maingroup', 'data-subgroup', 'data-type', 'data-vehicle', 'data-productcode', 'data-price', 'data-ordertypeid', 'data-pos', 'href', 'data-s', 'data-site', 'data-pro', 'data-cache', 'data-sv', 'data-name', 'data-id', 'data-price', 'data-brand', 'data-cate', 'data-box', 'class', 'data-pos', 'class', 'item-rating-total']\n",
      "28\n"
     ]
    }
   ],
   "source": [
    "COLUMNS = []\n",
    "BEST_COLUMNS = []\n",
    "REMOVED_COLUMNS = []\n",
    "PRE_LINK = \"https://www.dienmayxanh.com/\"\n",
    "\n",
    "for tag in tagList:\n",
    "    \n",
    "    for key, value in tag.attrs.items():\n",
    "        COLUMNS.append(key)\n",
    "\n",
    "    child = tag.find('a', {'class': 'main-contain'})    \n",
    "    for key, _ in child.attrs.items():\n",
    "        COLUMNS.append(key)\n",
    "\n",
    "    # sản phẩm chứa nhiều thông số khác nhau với số lượng thông số cũng không cố định\n",
    "    child = tag.find('div', {'class': 'item-compare'})\n",
    "    for key, _ in child.attrs.items():\n",
    "        COLUMNS.append(key)\n",
    "\n",
    "    child = tag.find('p', {'class': 'item-rating-total'})\n",
    "    COLUMNS.append(child.get('class')[0])\n",
    "    \n",
    "    break\n",
    "\n",
    "\n",
    "print(COLUMNS)\n",
    "print(len(COLUMNS)) "
   ]
  },
  {
   "cell_type": "code",
   "execution_count": 23,
   "metadata": {},
   "outputs": [],
   "source": [
    "import csv\n",
    "from csv import writer\n",
    "\n",
    "BEST_COLUMNS = ['data-id', 'data-productcode', 'data-price', \n",
    "                'href', 'data-name', 'data-id', 'data-price', \n",
    "                'data-brand', 'data-cate', 'item-rating-total']\n",
    "\n",
    "csv_filePath = \"E:/UDA_LEARNING/UDA_XU LI NGON NGU TU NHIEN II/Book_Web Scraping with Python/Practice_02.csv\"\n",
    "csv_file = open(csv_filePath, 'a', newline='', encoding='utf-8')\n",
    "writer = csv.writer(csv_file)\n",
    "writer.writerow(BEST_COLUMNS)\n",
    "\n",
    "count = 0\n",
    "for tag in tagList:\n",
    "    dataRow = []\n",
    "\n",
    "    for key, value in tag.attrs.items(): # lấy thuộc tính và giá trị của nó, trả về dạng dict\n",
    "        if key in BEST_COLUMNS:\n",
    "            dataRow.append(value)\n",
    "\n",
    "    for key, value in tag.find('a', {'class': 'main-contain'}).attrs.items():\n",
    "        if key in BEST_COLUMNS:\n",
    "            dataRow.append(value)  \n",
    "\n",
    "    rating = tag.find('p', {'class': 'item-rating-total'})\n",
    "    if rating is not None:\n",
    "        dataRow.append(rating.get_text())\n",
    "    else:\n",
    "        dataRow.append('0')\n",
    "    \n",
    "    writer.writerow(dataRow)\n",
    "    count += 1"
   ]
  },
  {
   "cell_type": "code",
   "execution_count": 27,
   "metadata": {},
   "outputs": [],
   "source": [
    "html.close()\n",
    "csv_file.close()"
   ]
  },
  {
   "cell_type": "markdown",
   "metadata": {},
   "source": [
    "***note***\n",
    "\n",
    "các danh mục sản phẩm được lấy trong file csv có thể bị trùng nhau"
   ]
  }
 ],
 "metadata": {
  "kernelspec": {
   "display_name": "Python 3",
   "language": "python",
   "name": "python3"
  },
  "language_info": {
   "codemirror_mode": {
    "name": "ipython",
    "version": 3
   },
   "file_extension": ".py",
   "mimetype": "text/x-python",
   "name": "python",
   "nbconvert_exporter": "python",
   "pygments_lexer": "ipython3",
   "version": "3.10.6"
  }
 },
 "nbformat": 4,
 "nbformat_minor": 2
}
