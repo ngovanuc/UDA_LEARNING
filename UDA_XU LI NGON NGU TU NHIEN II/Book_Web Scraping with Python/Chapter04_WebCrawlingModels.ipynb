{
 "cells": [
  {
   "cell_type": "code",
   "execution_count": null,
   "metadata": {},
   "outputs": [],
   "source": [
    "\"\"\"\n",
    "Chapter 04: Web Crawling model\n",
    "Date: 20/04/2024\n",
    "\"\"\""
   ]
  },
  {
   "cell_type": "code",
   "execution_count": null,
   "metadata": {},
   "outputs": [],
   "source": [
    "import requests\n",
    "from bs4 import BeautifulSoup\n",
    "\n",
    "class Content:\n",
    "    def __init__(self, url, title, body):\n",
    "        self.url = url\n",
    "        self.title = title\n",
    "        self.body = body\n",
    "\n",
    "def getPage(url):\n",
    "    req = requests.get(url)\n",
    "    return BeautifulSoup(req.text, 'html.parser')\n",
    "\n",
    "def scrapeNYTimes(url):\n",
    "    bs = getPage(url)\n",
    "    title = bs.find('h1').text\n",
    "    lines = bs.find_all('p', {'class': 'story-content'})\n",
    "    body = '\\n'.join([line.text for line in lines])\n",
    "    return Content(url, title, body)\n",
    "\n",
    "def scrapeBrookings(url):\n",
    "    bs = getPage(url)\n",
    "    title = bs.find('h1').text\n",
    "    body = bs.find('div', {'class': 'post-body'}).text\n",
    "    return Content(url, title, body)\n",
    "    \n",
    "\n",
    "url = 'https://www.brookings.edu/blog/future-development''/2018/01/26/delivering-inclusive-urban-access-3-unc''omfortable-truths/'\n",
    "content = scrapeBrookings(url)\n",
    "print('Title: {}'.format(content.title))\n",
    "print('URL: {}\\n'.format(content.url))\n",
    "print(content.body)\n",
    "\n",
    "url = 'https://www.nytimes.com/2018/01/25/opinion/sunday/silicon-valley-immortality.html'\n",
    "content = scrapeNYTimes(url)\n",
    "print('title: {}'.format(content.title))\n",
    "print('URL: {}\\n'.format(content.url))\n",
    "print(content.body)"
   ]
  },
  {
   "cell_type": "markdown",
   "metadata": {},
   "source": [
    "***note***\n",
    "\n",
    "việc thực hiện quá nhiều yêu cầu đến một trang web có thể không phải là phương án hay và nên cân nhắc nó.\n",
    "\n",
    "phương án đưa ra ở đây là thực hiện 10 yêu cầu một lúc rồi ngưng 10 phút, và cứ như thế để tránh quá tải cho server và hạn chế bị phát hiện"
   ]
  },
  {
   "cell_type": "markdown",
   "metadata": {},
   "source": [
    "# thinking about web crawler model"
   ]
  },
  {
   "cell_type": "markdown",
   "metadata": {},
   "source": [
    "việc thu thập dữ liệu không đơn giản và có rất nhiều thứ ở ngoài kia, cần phải xác định rõ ràng là cần gì và cần nó như thế nào?\n",
    "\n",
    "***bước đầu tiên của bất kì dự án quét web (lớn hay nhỏ) đều phải***\n",
    "\n",
    "- khi thu thập dữ liệu tương tự trên nhiều tên miền hoặc từ nhiều nguồn, mục tiêu của của bạn luôn là cố gắng bình thường hóa \n",
    "\n",
    "- xử lí dữ liệu với các trường giống hệt và có thể so sánh dễ dàng hơn nhiều so với xử lí dữ liệu hoàn toàn phụ thuộc vào định dạng nguồn ban đầu\n",
    "\n",
    "trong nhiều trường hợp, cần xây dựng các trình dọn dẹp với giả định rằng nhiều nguồn dữ liệu hơn sẽ được thêm vào chúng trong tương lai và mục tiêu giảm thiểu chi phí lập trình cần thiết để thêm các nguồn mới này. ngay cả khi một trang không mong muốn xuất hiện. \n",
    "=> việc thấy những mẫu cơ bản này giúp chúng ta tiết kiệm thời gian và tiền bạc, nếu nối giữa cac phần của dữ liệu cũng không nên bỏ qua\n",
    "\n",
    "\n",
    "khi bạn tiếp tục thu thập dữ liệu, bạn sẽ tìm thấy các mẫu cơ bản giống nhau xảy ra lặp đi lặp lại. việc tạo một trình quét web có cấu trúc tốt không đòi hỏi nhiều kiến thức phức tạp, nhưng nó đòi hỏi bạn phải dành một chút thời gian để lừi lại và suy nghĩ về dự án của mình."
   ]
  }
 ],
 "metadata": {
  "kernelspec": {
   "display_name": "Python 3",
   "language": "python",
   "name": "python3"
  },
  "language_info": {
   "codemirror_mode": {
    "name": "ipython",
    "version": 3
   },
   "file_extension": ".py",
   "mimetype": "text/x-python",
   "name": "python",
   "nbconvert_exporter": "python",
   "pygments_lexer": "ipython3",
   "version": "3.10.6"
  }
 },
 "nbformat": 4,
 "nbformat_minor": 2
}
