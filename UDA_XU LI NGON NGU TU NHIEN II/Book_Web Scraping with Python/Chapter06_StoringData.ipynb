{
 "cells": [
  {
   "cell_type": "code",
   "execution_count": null,
   "metadata": {},
   "outputs": [],
   "source": [
    "\"\"\"\n",
    "Chapter 06: Storing data\n",
    "Date: 25/05/2024\n",
    "\"\"\""
   ]
  },
  {
   "cell_type": "markdown",
   "metadata": {},
   "source": [
    "# Media files\n",
    "\n",
    "save file in two main ways:\n",
    "\n",
    "    - reference\n",
    "    - dowloading file\n",
    "\n",
    "tùy thuộc vào tình huống/ trường hợp sử dụng mà có thể chọn cách lưu tệp tùy thích. thư viện urllib được sử dụng để truy xuất nội dung của các trang web, cũng chứa chức năng truy xuất nội dung của tệp"
   ]
  },
  {
   "cell_type": "code",
   "execution_count": 18,
   "metadata": {},
   "outputs": [
    {
     "name": "stdout",
     "output_type": "stream",
     "text": [
      "<img alt=\"home1\" class=\"pagelayer-img pagelayer-animation-{{anim_hover}}\" decoding=\"async\" src=\"https://pythonscraping.com/wp-content/uploads/2021/08/home1.jpg\" srcset=\"https://pythonscraping.com/wp-content/uploads/2021/08/home1.jpg, https://pythonscraping.com/wp-content/uploads/2021/08/home1.jpg 1x, \" title=\"home1\"/>\n",
      "https://pythonscraping.com/wp-content/uploads/2021/08/home1.jpg\n"
     ]
    },
    {
     "data": {
      "text/plain": [
       "('E:/UDA_LEARNING/UDA_XU LI NGON NGU TU NHIEN II/Book_Web Scraping with Python/image/logo.jpg',\n",
       " <http.client.HTTPMessage at 0x1f272f08a90>)"
      ]
     },
     "execution_count": 18,
     "metadata": {},
     "output_type": "execute_result"
    }
   ],
   "source": [
    "# urllib.request.urlretrieve để tải xuống hình ảnh từ một URL từ xa\n",
    "from urllib.request import urlretrieve\n",
    "from urllib.request import urlopen\n",
    "from bs4 import BeautifulSoup\n",
    "\n",
    "\n",
    "html = urlopen('http://www.pythonscraping.com')\n",
    "bs = BeautifulSoup(html, 'html.parser')\n",
    "# print(bs)\n",
    "imageLocation = bs.find('img', {'alt': 'home1'})\n",
    "print(imageLocation)\n",
    "src = imageLocation.get('src')\n",
    "print(src)\n",
    "urlretrieve(src, 'E:/UDA_LEARNING/UDA_XU LI NGON NGU TU NHIEN II/Book_Web Scraping with Python/image/logo.jpg')\n",
    "# downloads  the  logo  from  http://pythonscraping.com  and  stores  it  as  logo.jpg in the same directory from which the script is running\n"
   ]
  },
  {
   "cell_type": "code",
   "execution_count": 23,
   "metadata": {},
   "outputs": [
    {
     "name": "stdout",
     "output_type": "stream",
     "text": [
      "http://pythonscraping.com/https://pythonscraping.com/wp-includes/js/jquery/jquery.min.js?ver=3.7.1\n",
      "http://pythonscraping.com/https://pythonscraping.com/wp-includes/js/jquery/jquery-migrate.min.js?ver=3.4.1\n",
      "http://pythonscraping.com/https://pythonscraping.com/wp-content/plugins/pagelayer/js/combined.js?ver=1.7.5\n",
      "http://pythonscraping.com/https://pythonscraping.com/wp-content/plugins/email-capture-lead-generation//js/eclg-public.js?ver=1.0.1\n",
      "http://pythonscraping.com/https://www.googletagmanager.com/gtag/js?id=GT-TNFZZK6\n",
      "http://pythonscraping.com/https://pythonscraping.com/wp-content/uploads/2023/04/python-logo-e1681354047443.png\n",
      "http://pythonscraping.com/https://pythonscraping.com/wp-content/uploads/2021/08/home1.jpg\n",
      "http://pythonscraping.com/https://pythonscraping.com/wp-content/uploads/2021/08/logo01-e1681353135199.png\n",
      "http://pythonscraping.com/https://pythonscraping.com/wp-content/plugins/email-capture-lead-generation//images/ajax_loader.gif\n",
      "http://pythonscraping.com/https://pythonscraping.com/wp-content/plugins/contact-form-7/includes/swv/js/index.js?ver=5.7.7\n",
      "http://pythonscraping.com/https://pythonscraping.com/wp-content/plugins/contact-form-7/includes/js/index.js?ver=5.7.7\n",
      "http://pythonscraping.com/https://pythonscraping.com/wp-content/themes/popularfx/js/navigation.js?ver=1.2.0\n"
     ]
    }
   ],
   "source": [
    "'''\n",
    "The following downloads all internal files, linked to by any tag’s src \n",
    "attribute,from the home page of http://pythonscraping.com\n",
    "'''\n",
    "\n",
    "import os\n",
    "from urllib.request import urlretrieve\n",
    "from urllib.request import urlopen\n",
    "from bs4 import BeautifulSoup\n",
    "\n",
    "\n",
    "downloadDirectory = 'E:/UDA_LEARNING/UDA_XU LI NGON NGU TU NHIEN II/Book_Web Scraping with Python/image'\n",
    "baseUrl = 'http://pythonscraping.com'\n",
    "\n",
    "\n",
    "def getAbsoluteURL(baseUrl, source):\n",
    "    if source.startswith('http://www.'):\n",
    "        url = 'http://{}'.format(source[11:])\n",
    "    elif source.startswith('http://'):\n",
    "        url = source\n",
    "    elif source.startswith('www.'):\n",
    "        url = source[4:]\n",
    "        url = 'http://{}'.format(source)\n",
    "    else:\n",
    "        url = '{}/{}'.format(baseUrl, source)\n",
    "    if baseUrl not in url:\n",
    "        return None\n",
    "    return url\n",
    "\n",
    "\n",
    "def getDownloadPath(baseUrl, absoluteUrl, downloadDirctory):\n",
    "    path = absoluteUrl.replace('www.', '')\n",
    "    path = path.replace(baseUrl, '')\n",
    "    path = downloadDirctory + path\n",
    "    directory = os.path.dirname(path)\n",
    "\n",
    "    if not os.path.exists(directory):\n",
    "        os.makedirs(directory)\n",
    "    \n",
    "    return path\n",
    "\n",
    "\n",
    "html = urlopen('http://www.pythonscraping.com')\n",
    "bs = BeautifulSoup(html, 'html.parser')\n",
    "downloadList = bs.findAll(src=True)\n",
    "\n",
    "for download in downloadList:\n",
    "    fileUrl = getAbsoluteURL(baseUrl, download['src'])\n",
    "    if fileUrl is not None:\n",
    "        print(fileUrl)\n",
    "\n",
    "# urlretrieve(fileUrl, getDownloadPath(baseUrl, fileUrl, downloadDirectory))"
   ]
  },
  {
   "cell_type": "markdown",
   "metadata": {},
   "source": [
    "***lưu ý khi download một cái gì đó trên internet***\n",
    "\n",
    "khi lỡ tải xuống các phần mềm độc hai (cac file dạng .exe độc hại) có thể chứa mã độc\n",
    "phải đảm bảo rằng bạn đang an toàn. nhớ rằng: What happens if yourun  across  a  file  on  a  website  that  sends  itself  to  ../../../../usr/bin/python?\n",
    "điều này sẽ deploying malware on your machine!"
   ]
  },
  {
   "cell_type": "markdown",
   "metadata": {},
   "source": [
    "# storing data to csv"
   ]
  },
  {
   "cell_type": "code",
   "execution_count": 4,
   "metadata": {},
   "outputs": [],
   "source": [
    "import csv\n",
    "\n",
    "csvFile = open('./test.csv', 'w+')\n",
    "try:\n",
    "    writer = csv.writer(csvFile)\n",
    "    writer.writerow(('number', 'number plus 2', 'number times 2'))\n",
    "    for i in range(10):\n",
    "        writer.writerow((i, i+2, i*2))\n",
    "finally:\n",
    "    csvFile.close()\n",
    "\n"
   ]
  },
  {
   "cell_type": "code",
   "execution_count": 12,
   "metadata": {},
   "outputs": [],
   "source": [
    "import csv\n",
    "from urllib.request import urlopen\n",
    "from bs4 import BeautifulSoup\n",
    "\n",
    "\n",
    "html = urlopen('http://en.wikipedia.org/wiki/Comparison_of_text_editors')\n",
    "bs = BeautifulSoup(html, 'html.parser')\n",
    "# the main comparision table is currently the first table on the page\n",
    "table = bs.findAll('table', {'class': 'wikitable'})[0]\n",
    "# print(table)\n",
    "rows = table.findAll('tr')\n",
    "csvFile = open('./editor.csv', 'wt+')\n",
    "writer = csv.writer(csvFile)\n",
    "try:\n",
    "    for row in rows:\n",
    "        csvRow = []\n",
    "        for cell in row.findAll(['td', 'th']):\n",
    "            csvRow.append(cell.get_text())\n",
    "            try:\n",
    "                writer.writerow(csvRow)\n",
    "            except UnicodeEncodeError as e:\n",
    "                continue\n",
    "finally:\n",
    "    csvFile.close()"
   ]
  },
  {
   "cell_type": "markdown",
   "metadata": {},
   "source": [
    "# email\n",
    "\n",
    "to send an amail\n",
    "=> uda_send mail by python"
   ]
  }
 ],
 "metadata": {
  "kernelspec": {
   "display_name": "Python 3",
   "language": "python",
   "name": "python3"
  },
  "language_info": {
   "codemirror_mode": {
    "name": "ipython",
    "version": 3
   },
   "file_extension": ".py",
   "mimetype": "text/x-python",
   "name": "python",
   "nbconvert_exporter": "python",
   "pygments_lexer": "ipython3",
   "version": "3.10.6"
  }
 },
 "nbformat": 4,
 "nbformat_minor": 2
}
